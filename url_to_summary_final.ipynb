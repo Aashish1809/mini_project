{
 "cells": [
  {
   "cell_type": "code",
   "execution_count": 1,
   "metadata": {},
   "outputs": [
    {
     "name": "stdout",
     "output_type": "stream",
     "text": [
      "Requirement already satisfied: transformers in c:\\users\\test01\\anaconda3\\envs\\deeplearning\\lib\\site-packages (4.6.0)\n",
      "Requirement already satisfied: huggingface-hub==0.0.8 in c:\\users\\test01\\anaconda3\\envs\\deeplearning\\lib\\site-packages (from transformers) (0.0.8)\n",
      "Requirement already satisfied: packaging in c:\\users\\test01\\anaconda3\\envs\\deeplearning\\lib\\site-packages (from transformers) (20.9)\n",
      "Requirement already satisfied: regex!=2019.12.17 in c:\\users\\test01\\anaconda3\\envs\\deeplearning\\lib\\site-packages (from transformers) (2021.4.4)\n",
      "Requirement already satisfied: requests in c:\\users\\test01\\anaconda3\\envs\\deeplearning\\lib\\site-packages (from transformers) (2.24.0)\n",
      "Requirement already satisfied: sacremoses in c:\\users\\test01\\anaconda3\\envs\\deeplearning\\lib\\site-packages (from transformers) (0.0.45)\n",
      "Requirement already satisfied: tqdm>=4.27 in c:\\users\\test01\\anaconda3\\envs\\deeplearning\\lib\\site-packages (from transformers) (4.60.0)\n",
      "Requirement already satisfied: numpy>=1.17 in c:\\users\\test01\\anaconda3\\envs\\deeplearning\\lib\\site-packages (from transformers) (1.19.2)\n",
      "Requirement already satisfied: tokenizers<0.11,>=0.10.1 in c:\\users\\test01\\anaconda3\\envs\\deeplearning\\lib\\site-packages (from transformers) (0.10.2)\n",
      "Requirement already satisfied: filelock in c:\\users\\test01\\anaconda3\\envs\\deeplearning\\lib\\site-packages (from transformers) (3.0.12)\n",
      "Requirement already satisfied: pyparsing>=2.0.2 in c:\\users\\test01\\anaconda3\\envs\\deeplearning\\lib\\site-packages (from packaging->transformers) (2.4.7)\n",
      "Requirement already satisfied: certifi>=2017.4.17 in c:\\users\\test01\\anaconda3\\envs\\deeplearning\\lib\\site-packages (from requests->transformers) (2020.6.20)\n",
      "Requirement already satisfied: idna<3,>=2.5 in c:\\users\\test01\\anaconda3\\envs\\deeplearning\\lib\\site-packages (from requests->transformers) (2.10)\n",
      "Requirement already satisfied: chardet<4,>=3.0.2 in c:\\users\\test01\\anaconda3\\envs\\deeplearning\\lib\\site-packages (from requests->transformers) (3.0.4)\n",
      "Requirement already satisfied: urllib3!=1.25.0,!=1.25.1,<1.26,>=1.21.1 in c:\\users\\test01\\anaconda3\\envs\\deeplearning\\lib\\site-packages (from requests->transformers) (1.25.11)\n",
      "Requirement already satisfied: click in c:\\users\\test01\\anaconda3\\envs\\deeplearning\\lib\\site-packages (from sacremoses->transformers) (7.1.2)\n",
      "Requirement already satisfied: six in c:\\users\\test01\\anaconda3\\envs\\deeplearning\\lib\\site-packages (from sacremoses->transformers) (1.15.0)\n",
      "Requirement already satisfied: joblib in c:\\users\\test01\\anaconda3\\envs\\deeplearning\\lib\\site-packages (from sacremoses->transformers) (0.17.0)\n"
     ]
    }
   ],
   "source": [
    "!pip install transformers"
   ]
  },
  {
   "cell_type": "markdown",
   "metadata": {},
   "source": [
    "# summarization using auto-tokenizer"
   ]
  },
  {
   "cell_type": "code",
   "execution_count": 2,
   "metadata": {},
   "outputs": [],
   "source": [
    "from bs4 import BeautifulSoup\n",
    "import requests"
   ]
  },
  {
   "cell_type": "code",
   "execution_count": 50,
   "metadata": {},
   "outputs": [],
   "source": [
    "website_url = \"https://www.cbr.com/batman-dark-knight-trilogy-life-lessons/\""
   ]
  },
  {
   "cell_type": "code",
   "execution_count": 51,
   "metadata": {},
   "outputs": [],
   "source": [
    "r = requests.get(website_url);"
   ]
  },
  {
   "cell_type": "code",
   "execution_count": 52,
   "metadata": {},
   "outputs": [],
   "source": [
    "short = BeautifulSoup(r.text,\"html.parser\")\n",
    "results = short.find_all(['h1','h2','p']);"
   ]
  },
  {
   "cell_type": "code",
   "execution_count": 53,
   "metadata": {},
   "outputs": [
    {
     "data": {
      "text/plain": [
       "[<h1 class=\"hide\" itemprop=\"headline\">www.cbr.com</h1>,\n",
       " <h1 class=\"article-title\">Batman: 10 Life Lessons From Nolan's Dark Knight Trilogy</h1>,\n",
       " <p class=\"article-excerpt\">The Dark Knight trilogy tells the story of Batman &amp; his superhero life, teaching important lessons along the way.</p>,\n",
       " <p>It's now been over 15 years since Christopher Nolan made his name a mainstay in the world of cinema with the first installment of his incredible trilogy, <a href=\"https://www.cbr.com/tag/the-dark-knight-trilogy/\"><em>The Dark Knight</em></a>, and it's fair to say that they still are some of the best movies of all time, not even just in the superhero genre. But, what makes them so incredible is still up for debate.</p>,\n",
       " <p><span class=\"related-single\">RELATED: <a href=\"https://www.cbr.com/trivia-factst-make-no-sense-dark-knight-trilogy/\">10 Things That Make Zero Sense About The Dark Knight Trilogy</a></span></p>,\n",
       " <p>Of course, the movie is spearheaded by one of the most accomplished and skilled directors ever in Christopher Nolan. It's also filled with a star-studded cast with actors like Christain Bale, Michael Caine, and Heath Ledger all featuring. And despite its great story structure and compelling characters, arguably the most important reason why fans love the trilogy so much is the powerful messages and lessons to be learned throughout.</p>,\n",
       " <h2><span class=\"item-num\">10</span> All It Takes Is a Little Push</h2>,\n",
       " <p>Generally accepted as the best installment of the trilogy, Nolan made history with his second Batman film <a href=\"https://www.cbr.com/tag/the-dark-knight/\"><em>The Dark Knight</em></a>. Having already met Bruce Wayne and seen his journey to becoming Gotham's vigilante, this film focused primarily on the infamous Joker, played by the great Heath Ledger, and his attempt to watch the world burn.</p>,\n",
       " <p><span class=\"related-single\">RELATED: <a href=\"https://www.cbr.com/dc-comics-joker-batman-terrible-things-monster/\">10 Times The Joker Was A Monster</a></span></p>,\n",
       " <p>In his mission to crumble society, the Joker continually reminds us that all it takes is a little push to turn anyone into a villain, and despite Batman's best efforts, he wins at the climax. He turned the entire city into chaos and manages to drive Harvey Dent insane without really skipping a beat.</p>,\n",
       " <h2><span class=\"item-num\">9</span> Make Your Own Luck</h2>,\n",
       " <p>District Attorney Harvey Dent was one of the only lights shining in the dark city of Gotham. He was honorable, charming, and extremely kind and proved to us that there is still good in the darkest of places. But what makes <a href=\"https://www.cbr.com/batman-heroic-harvey-dent-worst-two-face/\">Harvey so successful</a> is his clear drive to get what he wants in life, and <a href=\"https://www.cbr.com/the-dark-knight-best-quotes/\">as he says to Rachel</a>, \"I make my own luck.\"</p>,\n",
       " <p>Ambition and motivation have always been core values to strive for in today's world, and Harvey makes sure of that with his lucky two-headed coin, proving and inspiring viewers to go after what they want in life no matter the circumstances.</p>,\n",
       " <h2><span class=\"item-num\">8</span> People Can Be Two-Faced</h2>,\n",
       " <p>The typical superhero movie deals with two main types of characters. One is the hero, who will stop at nothing to protect everyone in danger, and the other is a villain, who will stop at nothing to see the world burn around him. Christopher Nolan, however, seemed to revolutionize the typical Hollywood clichés, making all his characters both good and bad.</p>,\n",
       " <p>In the incredible finale, Nolan shows us this idea with the Joker's social experiment where a ferry of prison inmates and a separate ferry of ordinary people are pitted against each other. But, remarkably, some of the inmates are shown stepping up with their own redeemable qualities. Another character that epitomizes this idea is of course Harvey Dent, whose descent into madness literally turns him into the villain Two-Face.</p>,\n",
       " <h2><span class=\"item-num\">7</span> Sometimes The Truth Must Remain Hidden</h2>,\n",
       " <p>The entire trilogy acts as a compelling character arc for Bruce Wayne. In <em>Batman Begins</em>, he goes on a hero's journey and discovers his calling as he becomes Gotham City's very own vigilante. But, by the end of the second film, Bruce finds the true purpose of Batman. It's not to be the knight in shiny armor or a public hero, and instead, it is to be the hero in the shadows, protecting Gotham from the darkness within.</p>,\n",
       " <p>After he defeats the Joker and stops Harvey Dent, Bruce and Detective Gordon realize that sometimes people need to lie in order to hide others from the harsh truth, and sometimes this hard decision is necessary.</p>,\n",
       " <h2><span class=\"item-num\">6</span> Conquer Your Fear</h2>,\n",
       " <p>Many characters in the trilogy are extremely courageous, from Detective Gordon and Harvey Dent to Bruce Wayne and Lucius Fox, the films continually show them fighting crime and stopping evil, and most importantly conquering their fears. The obvious example is Bruce Wayne, who learned to overcome his fear of bats and his fear of death following his quite tragic childhood.</p>,\n",
       " <p>After channeling his fears into anger, Bruce Wayne <a href=\"https://www.cbr.com/batmans-best-origins-ranked/\">took on the persona of Batman</a> to help save lives and stop criminals in his city. Not only does his fear directly link to his bat-inspired suit, but it also gave him the mental strength and will do to what he does.</p>,\n",
       " <h2><span class=\"item-num\">5</span> Don't Give Up</h2>,\n",
       " <p>In the final film of the trilogy, Bruce Wayne, now as the hero in the shadows, faces off against a new villain in Bane. Trained with the League of Shadows, Tom Hardy's Bane was an incredibly brutal and physical antagonist. In their first real hand-to-hand combat fight, Bane absolutely destroys Bruce with relative ease.</p>,\n",
       " <p><span class=\"related-single\">RELATED: <a href=\"https://www.cbr.com/the-dark-knight-rises-best-quotes/\">The Dark Knight Rises: 10 Best Quotes In The Film</a></span></p>,\n",
       " <p>After breaking his back and landing in jail, Bruce has to rise to the occasion and rebuild his strength back up to stop the cynical Bane. In true Batman fashion, Bruce never gave up and eventually returned to face off and defeat Bane in his second attempt.</p>,\n",
       " <h2><span class=\"item-num\">4</span> Actions Speak Louder Than Words</h2>,\n",
       " <p>In order to keep his Batman identity a secret, Bruce Wayne maintained his Tony Stark-like playboy image. In one instance during <em>Batman Begins</em>, he is seen with two supermodels leaving a restaurant soaking wet, and all seems fine until he stumbles into <a href=\"https://www.cbr.com/batman-most-important-women-bruce-wayne/\">childhood friend Rachel</a>. The encounter is awkward, but what comes of it is one of Nolan's most important quotes.</p>,\n",
       " <p>Rachel tells Bruce that \"it's not what you are underneath, it's what you do that defines you.\" This memorable quote should remind everyone that actions speak louder than words and ultimately define their true selves.</p>,\n",
       " <h2><span class=\"item-num\">3</span> Failure Is Ultimately The Key To Success</h2>,\n",
       " <p>One of the best parts of Nolan's trilogy is the supporting cast's performances and one that stands out is Michael Caine's Alfred Pennyworth, who definitely had his fair share of important lessons for Bruce. One constant theme of the movie is the idea of failure. It's first shown when Bruce is trapped in a well as a child, again when he <a href=\"https://www.cbr.com/batman-dark-knights-brutal-fights-ranked/\">almost dies at the hands of the League of Shadows</a>, and once again when facing off against Bane in <em>The Dark Knight Rises</em>.</p>,\n",
       " <p><span class=\"related-single\">RELATED: <a href=\"https://www.cbr.com/batman-dark-knight-trilogy-alfred-best-quotes/\">The Dark Knight Trilogy: Alfred's 10 Most Memorable Quotes</a></span></p>,\n",
       " <p>But as told by Bruce's father and later by Alfred, the reason people fail is \"so we can learn to pick ourselves up\" and it's this resilience and determination that makes Bruce such a good hero.</p>,\n",
       " <h2><span class=\"item-num\">2</span> Everyone Wears A Mask To Conceal Their Truth</h2>,\n",
       " <p>Batman is one of the most famous superheroes of all time and it doesn't come as a surprise that his bat-suit is also one of the <a href=\"https://www.cbr.com/batman-dc-comics-best-rarely-worn-costumes-batsuits/\">most iconic superhero outfits of all time</a>. One integral part of the suit is his mask, which hides his identity and, which Bruce correctly points out, can help Batman become a symbol of hope for the people of Gotham.</p>,\n",
       " <p>Nolan could also be trying to say that everyone has their own mask, and they will only reveal their true self and true thoughts to people they love and trust the most.</p>,\n",
       " <h2><span class=\"item-num\">1</span> Can't Also Work Alone</h2>,\n",
       " <p>While Batman is known to work on his own to fight crime, Nolan has shown us many times that without the help of others, he wouldn't have been able to succeed and save others. In <em>Batman Begins</em>, <a href=\"https://www.cbr.com/every-comic-book-batman-kills-in-order/\">Alfred saves Bruce twice</a>, once from the Scarecrow's hallucinogen, and then from the fire at Wayne Manor.</p>,\n",
       " <p>In <em>The Dark Knight</em>, without Lucius Fox's help, Bruce wouldn't have been able to find the Joker and without the help of Selina Kyle in <em>The Dark Knight Rises</em>, Batman wouldn't have been able to defeat Bane, once again showing us that sometimes working as a team is more powerful than working individually.</p>,\n",
       " <p><span class=\"next-single\">NEXT: <a href=\"https://www.cbr.com/christian-bale-batman-comics-comparison/\">5 Times Christian Bale's Batman Was Comics Accurate (&amp; 5 Times He Wasn't)</a></span></p>,\n",
       " <p>Barney Watts is an article writer, blogger, scriptwriter, aspiring filmmaker, and entrepreneur based in London. When he's not studying the universe as part of his Physics degree, he is watching and writing about movies. Now he works for Valnet, Inc, as a list writer for CBR and ScreenRant. On the side, he writes a compelling blog where he puts \"the sci in fi\" - analyzing the science behind cinema.</p>]"
      ]
     },
     "execution_count": 53,
     "metadata": {},
     "output_type": "execute_result"
    }
   ],
   "source": [
    "results"
   ]
  },
  {
   "cell_type": "code",
   "execution_count": 54,
   "metadata": {},
   "outputs": [],
   "source": [
    "blocked = ['embed','search','sharer','intent','share','watch','subscribe','sitemap','contact us','privacy policy','Did you find this story helpful?','sign up','login','copyright','terms and conditions','call us','all rights reserved']\n",
    "ext_text = [result.text for result in results]"
   ]
  },
  {
   "cell_type": "code",
   "execution_count": 55,
   "metadata": {},
   "outputs": [],
   "source": [
    "texts=''\n",
    "for i in range(len(ext_text)):\n",
    "    for block in blocked:\n",
    "        if block in ext_text[i].lower():\n",
    "            break\n",
    "    else:\n",
    "        texts+=ext_text[i]\n",
    "    "
   ]
  },
  {
   "cell_type": "code",
   "execution_count": 56,
   "metadata": {},
   "outputs": [
    {
     "data": {
      "text/plain": [
       "'www.cbr.comBatman: 10 Life Lessons From Nolan\\'s Dark Knight TrilogyThe Dark Knight trilogy tells the story of Batman & his superhero life, teaching important lessons along the way.It\\'s now been over 15 years since Christopher Nolan made his name a mainstay in the world of cinema with the first installment of his incredible trilogy, The Dark Knight, and it\\'s fair to say that they still are some of the best movies of all time, not even just in the superhero genre. But, what makes them so incredible is still up for debate.RELATED:\\xa010 Things That Make Zero Sense About The Dark Knight TrilogyOf course, the movie is spearheaded by one of the most accomplished and skilled directors ever in Christopher Nolan. It\\'s also filled with a star-studded cast with actors like Christain Bale, Michael Caine, and Heath Ledger all featuring.\\xa0And despite its great story structure and compelling characters, arguably the most important reason why fans love the trilogy so much is the powerful messages and lessons to be learned throughout.10 All It Takes Is a Little PushRELATED:\\xa010 Times The Joker Was A MonsterIn his mission to crumble society, the Joker continually reminds us that all it takes is a little push to turn anyone into a villain, and despite Batman\\'s best efforts, he wins at the climax. He turned the entire city into chaos and manages to drive Harvey Dent insane without really skipping a beat.9 Make Your Own LuckDistrict Attorney Harvey Dent was one of the only lights shining in the dark city of Gotham. He was honorable, charming, and extremely kind and proved to us that there is still good in the darkest of places. But what makes Harvey so successful is his clear drive to get what he wants in life, and as he says to Rachel, \"I make my own luck.\"Ambition and motivation have always been core values to strive for in today\\'s world, and Harvey makes sure of that with his lucky two-headed coin, proving and inspiring\\xa0viewers to go after what they want in life no matter the circumstances.8 People Can Be Two-FacedThe typical superhero movie deals with two main types of characters. One is the hero, who will stop at nothing to protect everyone in danger, and the other is a villain, who will stop at nothing to see the world burn around him. Christopher Nolan, however, seemed to revolutionize the typical Hollywood clichés, making all his characters both good and bad.In the incredible finale, Nolan shows us this idea\\xa0with the Joker\\'s social experiment where a ferry of prison inmates and a separate ferry of ordinary people are pitted against each other. But, remarkably, some of the inmates are shown stepping up with their own redeemable qualities. Another character that epitomizes this idea is of course Harvey Dent, whose descent into madness literally turns him into the villain Two-Face.7 Sometimes The Truth Must Remain HiddenThe entire trilogy acts as a compelling character arc for Bruce Wayne. In Batman Begins, he goes on a hero\\'s journey and discovers his calling as he becomes Gotham City\\'s very own vigilante. But, by the end of the second film, Bruce finds the true purpose of Batman. It\\'s not to be the knight in shiny armor or a public hero, and instead, it is to be the hero in the shadows, protecting Gotham from the darkness within.After he defeats the Joker and stops Harvey Dent, Bruce and Detective Gordon realize that sometimes people need to lie in order to hide others from the harsh truth, and sometimes this hard decision is necessary.6 Conquer Your FearMany characters in the trilogy are extremely courageous, from Detective Gordon and Harvey Dent to Bruce Wayne and Lucius Fox, the films continually show them fighting crime and stopping evil, and most importantly conquering their fears. The obvious example is Bruce Wayne, who learned to overcome his fear of bats and his fear of death following his quite tragic childhood.After channeling his fears into anger, Bruce Wayne took on the persona of Batman\\xa0to help save lives and stop criminals in his city. Not only does his fear directly link to his bat-inspired suit, but it also gave him the mental strength and will do to what he does.5 Don\\'t Give UpIn the final film of the trilogy, Bruce Wayne, now as the hero in the shadows, faces off against a new villain in Bane. Trained with the League of Shadows, Tom Hardy\\'s Bane was an incredibly brutal and physical antagonist. In their first real hand-to-hand combat fight, Bane absolutely destroys Bruce with relative ease.RELATED:\\xa0The Dark Knight Rises: 10 Best Quotes In The FilmAfter breaking his back and landing in jail, Bruce has to rise to the occasion and rebuild his strength back up to stop the cynical Bane. In true Batman fashion, Bruce never gave up and eventually returned to face off and defeat Bane in his second attempt.4 Actions Speak Louder Than WordsIn order to keep his Batman identity a secret, Bruce Wayne maintained his Tony Stark-like playboy image. In one instance during Batman Begins, he is seen with two supermodels leaving a restaurant soaking wet, and all seems fine until he stumbles into childhood friend Rachel. The encounter is awkward, but what comes of it is one of Nolan\\'s most important quotes.Rachel tells Bruce that \"it\\'s not what you are underneath, it\\'s what you do that defines you.\" This memorable quote should remind\\xa0everyone that actions speak louder than words and ultimately define\\xa0their true selves.3 Failure Is Ultimately The Key To SuccessRELATED:\\xa0The Dark Knight Trilogy: Alfred\\'s 10 Most Memorable QuotesBut as told by Bruce\\'s father and later by Alfred, the reason people fail is \"so we can learn to pick ourselves up\" and it\\'s this resilience and determination that makes Bruce such a good hero.2 Everyone Wears A Mask To Conceal Their TruthBatman is one of the most famous superheroes of all time and it doesn\\'t come as a surprise that his bat-suit is also one of the most iconic superhero outfits of all time. One integral part of the suit is his mask, which hides his identity and, which Bruce correctly points out, can help Batman become a symbol of hope for the people of Gotham.Nolan could also be trying to say that everyone has their own mask, and they will only reveal their true self and true thoughts to people they love and trust the most.1 Can\\'t Also Work AloneWhile Batman is known to work on his own to fight crime, Nolan has shown us many times that without the help of others, he wouldn\\'t have been able to succeed and save others. In Batman Begins, Alfred saves Bruce twice, once from the Scarecrow\\'s hallucinogen, and then from the fire at Wayne Manor.In The Dark Knight, without Lucius Fox\\'s help, Bruce wouldn\\'t have been able to find the Joker and without the help of Selina Kyle in The Dark Knight Rises, Batman wouldn\\'t have been able to defeat Bane, once again showing us that sometimes working as a team is more powerful than working individually.NEXT:\\xa05 Times Christian Bale\\'s Batman Was Comics Accurate (& 5 Times He Wasn\\'t)'"
      ]
     },
     "execution_count": 56,
     "metadata": {},
     "output_type": "execute_result"
    }
   ],
   "source": [
    "texts"
   ]
  },
  {
   "cell_type": "code",
   "execution_count": 36,
   "metadata": {},
   "outputs": [
    {
     "data": {
      "text/plain": [
       "4616"
      ]
     },
     "execution_count": 36,
     "metadata": {},
     "output_type": "execute_result"
    }
   ],
   "source": [
    "len(texts)"
   ]
  },
  {
   "cell_type": "code",
   "execution_count": 10,
   "metadata": {},
   "outputs": [],
   "source": [
    "from transformers import AutoTokenizer,AutoModelWithLMHead"
   ]
  },
  {
   "cell_type": "code",
   "execution_count": 11,
   "metadata": {},
   "outputs": [
    {
     "name": "stderr",
     "output_type": "stream",
     "text": [
      "C:\\Users\\TEST01\\anaconda3\\envs\\deeplearning\\lib\\site-packages\\transformers\\models\\auto\\modeling_auto.py:806: FutureWarning: The class `AutoModelWithLMHead` is deprecated and will be removed in a future version. Please use `AutoModelForCausalLM` for causal language models, `AutoModelForMaskedLM` for masked language models and `AutoModelForSeq2SeqLM` for encoder-decoder models.\n",
      "  warnings.warn(\n"
     ]
    }
   ],
   "source": [
    "tokenizer=AutoTokenizer.from_pretrained('t5-base')\n",
    "model=AutoModelWithLMHead.from_pretrained('t5-base',return_dict=True)"
   ]
  },
  {
   "cell_type": "code",
   "execution_count": 74,
   "metadata": {},
   "outputs": [],
   "source": [
    "inputs=tokenizer.encode(\"summarize: \" + texts,return_tensors='pt',max_length=512,truncation=True)"
   ]
  },
  {
   "cell_type": "code",
   "execution_count": 75,
   "metadata": {},
   "outputs": [],
   "source": [
    "outputs = model.generate(inputs, max_length=300, min_length=80, length_penalty=5, num_beams=2)"
   ]
  },
  {
   "cell_type": "code",
   "execution_count": 76,
   "metadata": {},
   "outputs": [],
   "source": [
    "summary = tokenizer.decode(outputs[0])"
   ]
  },
  {
   "cell_type": "code",
   "execution_count": 77,
   "metadata": {},
   "outputs": [
    {
     "data": {
      "text/plain": [
       "'<pad> the dark knight trilogy tells the story of Batman & his superhero life, teaching important lessons along the way. what makes them so incredible is still up for debate. what makes them so incredible is the powerful messages and lessons to be learned throughout. the typical superhero movie deals with two main types of characters: the hero, who will stop at nothing to protect everyone in the world.</s>'"
      ]
     },
     "execution_count": 77,
     "metadata": {},
     "output_type": "execute_result"
    }
   ],
   "source": [
    "summary"
   ]
  },
  {
   "cell_type": "markdown",
   "metadata": {},
   "source": [
    "# summarization using pipeline"
   ]
  },
  {
   "cell_type": "code",
   "execution_count": null,
   "metadata": {},
   "outputs": [],
   "source": [
    "!pip install transformers\n",
    "from transformers import pipeline"
   ]
  },
  {
   "cell_type": "code",
   "execution_count": null,
   "metadata": {},
   "outputs": [],
   "source": [
    "from transformers import pipeline\n",
    "from bs4 import BeautifulSoup\n",
    "import requests"
   ]
  },
  {
   "cell_type": "code",
   "execution_count": null,
   "metadata": {},
   "outputs": [],
   "source": [
    "summarizer = pipeline('summarization')"
   ]
  },
  {
   "cell_type": "code",
   "execution_count": null,
   "metadata": {},
   "outputs": [],
   "source": [
    "r = requests.get(website_url);"
   ]
  },
  {
   "cell_type": "code",
   "execution_count": null,
   "metadata": {},
   "outputs": [],
   "source": [
    "short = BeautifulSoup(r.text,\"html.parser\")\n",
    "results = short.find_all(['h1','h2','p']);"
   ]
  },
  {
   "cell_type": "code",
   "execution_count": null,
   "metadata": {},
   "outputs": [],
   "source": [
    "results"
   ]
  },
  {
   "cell_type": "code",
   "execution_count": null,
   "metadata": {},
   "outputs": [],
   "source": [
    "blocked = ['embed','search','sharer','intent','share','watch','subscribe','sitemap','contact us','privacy policy','Did you find this story helpful?','sign up','login','copyright','terms and conditions','call us','all rights reserved']\n",
    "ext_text = [result.text for result in results]"
   ]
  },
  {
   "cell_type": "code",
   "execution_count": null,
   "metadata": {},
   "outputs": [],
   "source": [
    "final_article = ' '.join(ext_text);"
   ]
  },
  {
   "cell_type": "code",
   "execution_count": null,
   "metadata": {},
   "outputs": [],
   "source": [
    "final_article"
   ]
  },
  {
   "cell_type": "code",
   "execution_count": null,
   "metadata": {},
   "outputs": [],
   "source": [
    "final_article = final_article.replace('.','.<eos>')\n",
    "final_article = final_article.replace('!','!<eos>')\n",
    "final_article = final_article.replace('?','?<eos>')\n",
    "final_sentences = final_article.split('<eos>')"
   ]
  },
  {
   "cell_type": "code",
   "execution_count": null,
   "metadata": {},
   "outputs": [],
   "source": [
    "total_words = 500\n",
    "current_words = 0\n",
    "words = []\n",
    "for sentence in final_sentences:\n",
    "    if(len(words)==current_words+1):\n",
    "        if(len(words[current_words])) + len(sentence.split(' ')) <= total_words:\n",
    "            words[current_words].extend(sentence.split(' '))\n",
    "        else:\n",
    "            current_words +=1;\n",
    "            words.append(sentence.split(' '))\n",
    "    else:\n",
    "        print(current_words)\n",
    "        words.append(sentence.split(' '))"
   ]
  },
  {
   "cell_type": "code",
   "execution_count": null,
   "metadata": {},
   "outputs": [],
   "source": [
    "for word_id in range(len(words)):\n",
    "    words[word_id] = ' '.join(words[word_id])"
   ]
  },
  {
   "cell_type": "code",
   "execution_count": null,
   "metadata": {},
   "outputs": [],
   "source": [
    "final_summary = summarizer(words, max_length=300, min_length=50, do_sample=False)"
   ]
  },
  {
   "cell_type": "code",
   "execution_count": null,
   "metadata": {},
   "outputs": [],
   "source": [
    "finalsummary=' '.join([summary['summary_text'] for summary in final_summary])"
   ]
  }
 ],
 "metadata": {
  "kernelspec": {
   "display_name": "Python 3",
   "language": "python",
   "name": "python3"
  },
  "language_info": {
   "codemirror_mode": {
    "name": "ipython",
    "version": 3
   },
   "file_extension": ".py",
   "mimetype": "text/x-python",
   "name": "python",
   "nbconvert_exporter": "python",
   "pygments_lexer": "ipython3",
   "version": "3.8.5"
  }
 },
 "nbformat": 4,
 "nbformat_minor": 5
}
