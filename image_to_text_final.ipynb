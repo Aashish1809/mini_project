{
 "cells": [
  {
   "cell_type": "code",
   "execution_count": 3,
   "metadata": {},
   "outputs": [],
   "source": [
    "import tensorflow as tf\n",
    "from tensorflow import lite"
   ]
  },
  {
   "cell_type": "code",
   "execution_count": 1,
   "metadata": {},
   "outputs": [],
   "source": [
    "import pytesseract"
   ]
  },
  {
   "cell_type": "code",
   "execution_count": 2,
   "metadata": {},
   "outputs": [],
   "source": [
    "pytesseract.pytesseract.tesseract_cmd=r'C:\\Program Files\\Tesseract-OCR\\tesseract.exe'"
   ]
  },
  {
   "cell_type": "code",
   "execution_count": 3,
   "metadata": {},
   "outputs": [],
   "source": [
    "from PIL import Image"
   ]
  },
  {
   "cell_type": "code",
   "execution_count": 4,
   "metadata": {},
   "outputs": [],
   "source": [
    "img=Image.open('Screenshot (508).png')"
   ]
  },
  {
   "cell_type": "code",
   "execution_count": 5,
   "metadata": {},
   "outputs": [],
   "source": [
    "import PIL.Image\n",
    "text=pytesseract.image_to_string(PIL.Image.open('Screenshot (508).png').convert(\"RGB\"), lang='eng')"
   ]
  },
  {
   "cell_type": "code",
   "execution_count": 6,
   "metadata": {},
   "outputs": [
    {
     "name": "stdout",
     "output_type": "stream",
     "text": [
      "Kyle Chandler\n",
      "\n",
      " \n",
      "\n",
      "   \n",
      "\n",
      " \n",
      "\n",
      " \n",
      "\n",
      "Plot Demin Bichir\n",
      "Music by Tom Holkenborg\n",
      "\n",
      "Five years after Godzila defeated King Ghidorah,§! Kong is monitored by Monarch within a giant dome on Skull Island. Kong is visited by Jia, the last lwi eet PEE\n",
      "\n",
      "native and Kong expert Ilene Andrews’ adopted daughter, who is deaf and communicates with Kong via sign language. — “Josh Schaeffer\n",
      "\n",
      "Bernie Hayes, an employee of Apex Cybernetics and host of a Titan conspiracy theory podcast, extracts data suggesting sinister activities at a Pensacola Production _—_Legendary Pictures\n",
      "\n",
      "facility. However, Godzilla suddenly attacks the facility: during the rampage, Bernie stumbles on a massive device. Madison Russell, a fan of Bemie's podcast, | S°™P8\"Y\n",
      "\n",
      "i , Distributed by Warner Bros. Pictures\n",
      "\n",
      "enlists her friend Josh to investigate Godzilla's attacks, Cr\n",
      "\n",
      "‘Apex CEO Walter Simmons recruits Nathan Lind, former Monarch scientist and Hollow Earth theorist, to guide a search for a power source into the Hollow Toho\n",
      "\n",
      "Earth, the homeworld of the Titans. Nathan is initially hesitant as his brother died in an expedition to the Hollow Earth due to a strong reverse-gravitational (Japan)\n",
      "\n",
      "effect. He agrees after Walter reveals that Apex has developed HEAVs, specialized crafts able to withstand the pressure exerted by the gravity field Release date tne soon\n",
      "\n",
      "Nathan meets with lene and convinces her to let Kong guide them through the Hollow Earth via an outpost in Antarctica. Nathan, llene, and an Apex team led March 31, 2021 (United\n",
      "\n",
      "by Walter's daughter Maia board a modified barge escorted by the U.S. Navy that carries a sedated and restrained Kong. Godzilla attacks the convoy and States)\n",
      "\n",
      "defeats Kong, but retreats after the ships disable their power and trick him into thinking they are destroyed. To avoid alerting Godzilla, Kong is airlifted to the Running time 113 minutes\")\n",
      "\n",
      "Hollow Earth entrance, and Jia convinces him to enter the tunnel while the team follows him in the HEAVs, Country United States\n",
      "Language English\n",
      "\n",
      "Madison and Josh find Bernie, who joins their investigation. They sneak into the wrecked Apex base, discover a secret facility underground, and are cel 485-200 mor!\n",
      "\n",
      "inadvertently locked into an underground monorail transport to Apex headquarters in Hong Kong, where they unwitingly stumble on a test of Mechagodzilla It | oy mee 54274 mition21\n",
      "\n",
      "is telepathically controlled by Ren Serizawa, the son of the late Ishird Serizawa. through the neural networks from the skull of a severed Ghidorah head,\"\n",
      "but is hobbled by its power supply's limitations. Walter intends to hamess the Hollow Earth's energy to overcome Mechagodzilla's limitations.\n",
      "\n",
      "Inside the Hollow Earth, Kong and the team find an ecosystem similar to Skull Island. They discover his species’ ancestral throne room, where they find remains of an ancient war with Godzila's kind and a\n",
      "glowing axe made from another Godzilla’s dorsal plates. As they identify the power source, the Apex team sends its signature back to their Hong Kong base despite llene's protests. Attracted by\n",
      "Mechagodzilla's activation, Godzilla arrives in Hong Kong, and sensing Kong, he directly drills a shaft to the throne room with his atomic breath. In the ensuing mayhem, Maia and the Apex team attempt to\n",
      "‘escape but their HEAV is crushed by Kong. Kong, Ilene, Jia, and Nathan ascend to Hong Kong, where Godzilla and Kong battle. Godzilla is intially overpowered by Kong, but Godzilla emerges victorious.\n",
      "Kong loses consciousness after being defeated by Godzilla.\n",
      "\n",
      "   \n",
      "\n",
      " \n",
      "\n",
      "Madison, Josh, and Bernie are caught by security and taken to Walter. Despite Ren’s concems over the power source's volatility, Walter orders him to activate Mechagodzilla. They lose control of\n",
      "Mechagodzilla, who kills Walter, electrocutes Ren and then attacks Hong Kong. Godzilla and Mechagodzilla battle, but Godzilla is overwhelmed. Nathan revives Kong by destroying the HEAV, and Jia\n",
      "convinces him to help Godzilla. As Mechagodzilla overpowers both Titans, Josh short-circuits Mechagodzilla's controls with Bernie's flask of liquor, momentarily interrupting the mech. Godzilla supercharges\n",
      "Kong's axe with his atomic breath, allowing Kong to destroy Mechagodzilla. Madison, Bemie, and Josh reunite with Mark Russell, while Godzilla and Kong acknowledge each other before the two go their\n",
      "separate ways\n",
      "\n",
      " \n",
      "\n",
      "‘Sometime later, Monarch has established an observation post in the Hollow Earth, where Kong now rules.\n",
      "\f",
      "\n"
     ]
    }
   ],
   "source": [
    "print(text)"
   ]
  },
  {
   "cell_type": "markdown",
   "metadata": {},
   "source": [
    "# summarization using auto tokenizer"
   ]
  },
  {
   "cell_type": "code",
   "execution_count": 7,
   "metadata": {},
   "outputs": [
    {
     "name": "stderr",
     "output_type": "stream",
     "text": [
      "C:\\Users\\TEST01\\anaconda3\\envs\\deeplearning\\lib\\site-packages\\transformers\\models\\auto\\modeling_auto.py:806: FutureWarning: The class `AutoModelWithLMHead` is deprecated and will be removed in a future version. Please use `AutoModelForCausalLM` for causal language models, `AutoModelForMaskedLM` for masked language models and `AutoModelForSeq2SeqLM` for encoder-decoder models.\n",
      "  warnings.warn(\n"
     ]
    }
   ],
   "source": [
    "import torch\n",
    "from transformers import AutoTokenizer,AutoModelWithLMHead\n",
    "tokenizer=AutoTokenizer.from_pretrained('t5-base')\n",
    "model=AutoModelWithLMHead.from_pretrained('t5-base',return_dict=True)"
   ]
  },
  {
   "cell_type": "code",
   "execution_count": 8,
   "metadata": {},
   "outputs": [],
   "source": [
    "texts = [result for result in text]\n",
    "final_article = ' '.join(texts);\n",
    "texts=''\n",
    "for result in text:\n",
    "    for j in result:\n",
    "        texts+=j "
   ]
  },
  {
   "cell_type": "code",
   "execution_count": 9,
   "metadata": {},
   "outputs": [],
   "source": [
    "texts = texts.replace('.','.<eos>')\n",
    "texts = texts.replace('!','!<eos>')\n",
    "texts = texts.replace('?','?<eos>')\n",
    "final_sentences = texts.split('<eos>')"
   ]
  },
  {
   "cell_type": "code",
   "execution_count": 10,
   "metadata": {},
   "outputs": [
    {
     "data": {
      "text/plain": [
       "['Kyle Chandler\\n\\n \\n\\n   \\n\\n \\n\\n \\n\\nPlot Demin Bichir\\nMusic by Tom Holkenborg\\n\\nFive years after Godzila defeated King Ghidorah,§!',\n",
       " ' Kong is monitored by Monarch within a giant dome on Skull Island.',\n",
       " ' Kong is visited by Jia, the last lwi eet PEE\\n\\nnative and Kong expert Ilene Andrews’ adopted daughter, who is deaf and communicates with Kong via sign language.',\n",
       " ' — “Josh Schaeffer\\n\\nBernie Hayes, an employee of Apex Cybernetics and host of a Titan conspiracy theory podcast, extracts data suggesting sinister activities at a Pensacola Production _—_Legendary Pictures\\n\\nfacility.',\n",
       " ' However, Godzilla suddenly attacks the facility: during the rampage, Bernie stumbles on a massive device.',\n",
       " ' Madison Russell, a fan of Bemie\\'s podcast, | S°™P8\"Y\\n\\ni , Distributed by Warner Bros.',\n",
       " \" Pictures\\n\\nenlists her friend Josh to investigate Godzilla's attacks, Cr\\n\\n‘Apex CEO Walter Simmons recruits Nathan Lind, former Monarch scientist and Hollow Earth theorist, to guide a search for a power source into the Hollow Toho\\n\\nEarth, the homeworld of the Titans.\",\n",
       " ' Nathan is initially hesitant as his brother died in an expedition to the Hollow Earth due to a strong reverse-gravitational (Japan)\\n\\neffect.',\n",
       " ' He agrees after Walter reveals that Apex has developed HEAVs, specialized crafts able to withstand the pressure exerted by the gravity field Release date tne soon\\n\\nNathan meets with lene and convinces her to let Kong guide them through the Hollow Earth via an outpost in Antarctica.',\n",
       " \" Nathan, llene, and an Apex team led March 31, 2021 (United\\n\\nby Walter's daughter Maia board a modified barge escorted by the U.\",\n",
       " 'S.',\n",
       " ' Navy that carries a sedated and restrained Kong.',\n",
       " ' Godzilla attacks the convoy and States)\\n\\ndefeats Kong, but retreats after the ships disable their power and trick him into thinking they are destroyed.',\n",
       " ' To avoid alerting Godzilla, Kong is airlifted to the Running time 113 minutes\")\\n\\nHollow Earth entrance, and Jia convinces him to enter the tunnel while the team follows him in the HEAVs, Country United States\\nLanguage English\\n\\nMadison and Josh find Bernie, who joins their investigation.',\n",
       " ' They sneak into the wrecked Apex base, discover a secret facility underground, and are cel 485-200 mor!',\n",
       " '\\n\\ninadvertently locked into an underground monorail transport to Apex headquarters in Hong Kong, where they unwitingly stumble on a test of Mechagodzilla It | oy mee 54274 mition21\\n\\nis telepathically controlled by Ren Serizawa, the son of the late Ishird Serizawa.',\n",
       " ' through the neural networks from the skull of a severed Ghidorah head,\"\\nbut is hobbled by its power supply\\'s limitations.',\n",
       " \" Walter intends to hamess the Hollow Earth's energy to overcome Mechagodzilla's limitations.\",\n",
       " '\\n\\nInside the Hollow Earth, Kong and the team find an ecosystem similar to Skull Island.',\n",
       " \" They discover his species’ ancestral throne room, where they find remains of an ancient war with Godzila's kind and a\\nglowing axe made from another Godzilla’s dorsal plates.\",\n",
       " \" As they identify the power source, the Apex team sends its signature back to their Hong Kong base despite llene's protests.\",\n",
       " \" Attracted by\\nMechagodzilla's activation, Godzilla arrives in Hong Kong, and sensing Kong, he directly drills a shaft to the throne room with his atomic breath.\",\n",
       " ' In the ensuing mayhem, Maia and the Apex team attempt to\\n‘escape but their HEAV is crushed by Kong.',\n",
       " ' Kong, Ilene, Jia, and Nathan ascend to Hong Kong, where Godzilla and Kong battle.',\n",
       " ' Godzilla is intially overpowered by Kong, but Godzilla emerges victorious.',\n",
       " '\\nKong loses consciousness after being defeated by Godzilla.',\n",
       " '\\n\\n   \\n\\n \\n\\nMadison, Josh, and Bernie are caught by security and taken to Walter.',\n",
       " \" Despite Ren’s concems over the power source's volatility, Walter orders him to activate Mechagodzilla.\",\n",
       " ' They lose control of\\nMechagodzilla, who kills Walter, electrocutes Ren and then attacks Hong Kong.',\n",
       " ' Godzilla and Mechagodzilla battle, but Godzilla is overwhelmed.',\n",
       " ' Nathan revives Kong by destroying the HEAV, and Jia\\nconvinces him to help Godzilla.',\n",
       " \" As Mechagodzilla overpowers both Titans, Josh short-circuits Mechagodzilla's controls with Bernie's flask of liquor, momentarily interrupting the mech.\",\n",
       " \" Godzilla supercharges\\nKong's axe with his atomic breath, allowing Kong to destroy Mechagodzilla.\",\n",
       " ' Madison, Bemie, and Josh reunite with Mark Russell, while Godzilla and Kong acknowledge each other before the two go their\\nseparate ways\\n\\n \\n\\n‘Sometime later, Monarch has established an observation post in the Hollow Earth, where Kong now rules.',\n",
       " '\\n\\x0c']"
      ]
     },
     "execution_count": 10,
     "metadata": {},
     "output_type": "execute_result"
    }
   ],
   "source": [
    "final_sentences"
   ]
  },
  {
   "cell_type": "code",
   "execution_count": 11,
   "metadata": {},
   "outputs": [],
   "source": [
    "final_article = ' '.join(final_sentences);"
   ]
  },
  {
   "cell_type": "code",
   "execution_count": 12,
   "metadata": {},
   "outputs": [],
   "source": [
    "inputs=tokenizer.encode(\"summarize: \" + final_article,return_tensors='pt',max_length=512,truncation=True)"
   ]
  },
  {
   "cell_type": "code",
   "execution_count": 13,
   "metadata": {},
   "outputs": [],
   "source": [
    "outputs = model.generate(inputs, max_length=500, min_length=80, length_penalty=5., num_beams=2)"
   ]
  },
  {
   "cell_type": "code",
   "execution_count": 14,
   "metadata": {},
   "outputs": [],
   "source": [
    "summary = tokenizer.decode(outputs[0])"
   ]
  },
  {
   "cell_type": "code",
   "execution_count": 15,
   "metadata": {},
   "outputs": [
    {
     "data": {
      "text/plain": [
       "'<pad> Kong is monitored by Monarch within a giant dome on Skull Island. he is visited by Jia, the last lwi eet PEE native and Kong expert Ilene Andrews’ adopted daughter, who is deaf and communicates with Kong via sign language. he is airlifted to the Hollow Earth entrance after Godzilla attacks the convoy and States) defeats Kong.</s>'"
      ]
     },
     "execution_count": 15,
     "metadata": {},
     "output_type": "execute_result"
    }
   ],
   "source": [
    "summary"
   ]
  },
  {
   "cell_type": "markdown",
   "metadata": {},
   "source": [
    "# summarization using pipeline"
   ]
  },
  {
   "cell_type": "code",
   "execution_count": 12,
   "metadata": {},
   "outputs": [],
   "source": [
    "from transformers import pipeline"
   ]
  },
  {
   "cell_type": "code",
   "execution_count": 13,
   "metadata": {},
   "outputs": [],
   "source": [
    "summarizer = pipeline('summarization')"
   ]
  },
  {
   "cell_type": "code",
   "execution_count": 17,
   "metadata": {},
   "outputs": [],
   "source": [
    "final_article = ' '.join(text);"
   ]
  },
  {
   "cell_type": "code",
   "execution_count": 18,
   "metadata": {},
   "outputs": [],
   "source": [
    "final_article = final_article.replace('.','.<eos>')\n",
    "final_article = final_article.replace('!','!<eos>')\n",
    "final_article = final_article.replace('?','?<eos>')\n",
    "final_sentences = final_article.split('<eos>')"
   ]
  },
  {
   "cell_type": "code",
   "execution_count": 19,
   "metadata": {},
   "outputs": [
    {
     "name": "stdout",
     "output_type": "stream",
     "text": [
      "0\n"
     ]
    }
   ],
   "source": [
    "total_words = 500\n",
    "current_words = 0\n",
    "words = []\n",
    "for sentence in final_sentences:\n",
    "    if(len(words)==current_words+1):\n",
    "        if(len(words[current_words])) + len(sentence.split(' ')) <= total_words:\n",
    "            words[current_words].extend(sentence.split(' '))\n",
    "        else:\n",
    "            current_words +=1;\n",
    "            words.append(sentence.split(' '))\n",
    "    else:\n",
    "        print(current_words)\n",
    "        words.append(sentence.split(' '))"
   ]
  },
  {
   "cell_type": "code",
   "execution_count": 20,
   "metadata": {},
   "outputs": [],
   "source": [
    "for word_id in range(len(words)):\n",
    "    words[word_id] = ' '.join(words[word_id])"
   ]
  },
  {
   "cell_type": "code",
   "execution_count": 74,
   "metadata": {},
   "outputs": [],
   "source": [
    "final_summary = summarizer(words, max_length=500, min_length=50, do_sample=False)"
   ]
  },
  {
   "cell_type": "code",
   "execution_count": 75,
   "metadata": {},
   "outputs": [
    {
     "data": {
      "text/plain": [
       "[{'summary_text': ' Five years after Godzila defeated King Ghidorah,§! Kong is monitored by Monarch within a giant dome on Skull Island . Kong is visited by Jia, the last lwi eet PEE-native and Kong expert Ilene Andrews’ adopted daughter, who is deaf and communicates with Kong via sign language .'},\n",
       " {'summary_text': ' Godzilla arrives in Hong Kong, and sensing Kong, he drills a shaft to the throne room with his atomic breath . Maia and the Apex team attempt to escape but their HEAV is crushed by Kong . Madison, Josh, and Bernie are caught by security and taken to Walter . Walter orders him to activate Mechagodzilla, who kills Walter, electrocutes Ren and then attacks Hong Kong . Godzilla and Kong battle, but Godzilla emerges victorious .'}]"
      ]
     },
     "execution_count": 75,
     "metadata": {},
     "output_type": "execute_result"
    }
   ],
   "source": [
    "finalsummary=' '.join([summary['summary_text'] for summary in final_summary])"
   ]
  },
  {
   "cell_type": "code",
   "execution_count": null,
   "metadata": {},
   "outputs": [],
   "source": []
  }
 ],
 "metadata": {
  "kernelspec": {
   "display_name": "Python 3",
   "language": "python",
   "name": "python3"
  },
  "language_info": {
   "codemirror_mode": {
    "name": "ipython",
    "version": 3
   },
   "file_extension": ".py",
   "mimetype": "text/x-python",
   "name": "python",
   "nbconvert_exporter": "python",
   "pygments_lexer": "ipython3",
   "version": "3.8.5"
  }
 },
 "nbformat": 4,
 "nbformat_minor": 2
}
